{
 "cells": [
  {
   "cell_type": "markdown",
   "metadata": {},
   "source": [
    "# Capstone Project - The Battle of the Neighborhoods (Week 1)\n",
    "## Hong Kong Food Culture analysis"
   ]
  },
  {
   "cell_type": "markdown",
   "metadata": {},
   "source": [
    "## Table of contents\n",
    "* [Introduction: Business Problem](#introduction)\n",
    "* [Data](#data)\n",
    "* [Methodology](#methodology)\n",
    "* [Analysis](#analysis)\n",
    "* [Results and Discussion](#results)\n",
    "* [Conclusion](#conclusion)"
   ]
  },
  {
   "cell_type": "markdown",
   "metadata": {},
   "source": [
    "## Introduction: Business Problem <a name=\"introduction\"></a>"
   ]
  },
  {
   "cell_type": "markdown",
   "metadata": {},
   "source": [
    "Hong Kong is famous for food, it is because we have a lot of amazing food choices here. From different cultures to different price levels, you may not be able to try them all. Finding a restaurant where you can try is a daily question in many people's mind.\n",
    "\n",
    " \n",
    "What to eat tonight? Some people may find their ideas from food guides or magazine recommendations. However, this project will look at the question from a data science perspective. We will analyze the cuisine's clusters and the price levels around hong kong.\n",
    "\n",
    " There are full of smart consumers in the city, price and the service have to be matched. We strive to find out a reasonable price to pay for each cuisine. Hopefully, It would be a good figure to help you choose your dinner too.\n",
    "\n",
    " In the nutshell, this project helps people understand the hong kong restaurant divergence in different cultures and prices. "
   ]
  },
  {
   "cell_type": "markdown",
   "metadata": {},
   "source": [
    "## Data <a name=\"data\"></a>"
   ]
  },
  {
   "cell_type": "markdown",
   "metadata": {},
   "source": [
    "The factors that will influence our analysis are:\n",
    "* the number of and density of restaurants in each district.\n",
    "* the number of cuisines style in hong kong.\n",
    "* the number of districts we are going to analyze.\n",
    "* quality of user response data from the foursquare site\n",
    "\n",
    "Following data sources will be needed to extract/generate the required information:\n",
    "* restaurants location and their type will be obtained using **Foursquare API**\n",
    "* more restaurants details such as price level and their cuisine style\n",
    "* popularity of the restaurant among the foursquare site"
   ]
  },
  {
   "cell_type": "code",
   "execution_count": null,
   "metadata": {},
   "outputs": [],
   "source": []
  }
 ],
 "metadata": {
  "kernelspec": {
   "display_name": "Python 3",
   "language": "python",
   "name": "python3"
  },
  "language_info": {
   "codemirror_mode": {
    "name": "ipython",
    "version": 3
   },
   "file_extension": ".py",
   "mimetype": "text/x-python",
   "name": "python",
   "nbconvert_exporter": "python",
   "pygments_lexer": "ipython3",
   "version": "3.6.4"
  }
 },
 "nbformat": 4,
 "nbformat_minor": 2
}
